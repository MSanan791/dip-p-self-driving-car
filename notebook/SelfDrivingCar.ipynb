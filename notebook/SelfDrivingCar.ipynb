{
 "cells": [
  {
   "metadata": {},
   "cell_type": "markdown",
   "source": "# Importing all the crucial libraries at one section of code.",
   "id": "6305aecd883c21f2"
  },
  {
   "cell_type": "code",
   "id": "initial_id",
   "metadata": {
    "collapsed": true,
    "ExecuteTime": {
     "end_time": "2025-05-11T12:11:45.629633Z",
     "start_time": "2025-05-11T12:11:45.134631Z"
    }
   },
   "source": [
    "import numpy as np\n",
    "import cv2\n",
    "import matplotlib.pyplot as plt"
   ],
   "outputs": [],
   "execution_count": 2
  },
  {
   "metadata": {
    "ExecuteTime": {
     "end_time": "2025-05-11T12:11:45.644637Z",
     "start_time": "2025-05-11T12:11:45.633635Z"
    }
   },
   "cell_type": "code",
   "source": "",
   "id": "7a8863bf129c41d9",
   "outputs": [],
   "execution_count": null
  },
  {
   "metadata": {},
   "cell_type": "markdown",
   "source": "# Establishing the basics of the the region of interest and the mask as well as the detection algorithm on a single image before we go on test the algorithm on a video.",
   "id": "dee2c377886e990"
  },
  {
   "metadata": {
    "ExecuteTime": {
     "end_time": "2025-05-11T12:11:45.675500Z",
     "start_time": "2025-05-11T12:11:45.662502Z"
    }
   },
   "cell_type": "code",
   "source": [
    "# Function for Histogram_equalisation\n",
    "def equalisation_histogram(test_img):\n",
    "    # Convert the image to YUV color space\n",
    "    yuv = cv2.cvtColor(test_img, cv2.COLOR_BGR2YUV)\n",
    "    # Split the channels\n",
    "    y, u, v = cv2.split(yuv)\n",
    "    # Apply histogram equalization on the Y channel\n",
    "    y_eq = cv2.equalizeHist(y)\n",
    "    # Merge the channels back\n",
    "    yuv_eq = cv2.merge((y_eq, u, v))\n",
    "    # Convert back to BGR color space\n",
    "    img_eq = cv2.cvtColor(yuv_eq, cv2.COLOR_YUV2BGR)\n",
    "    return img_eq\n",
    "\n",
    "def sharpen_image(img):\n",
    "    kernal = np.array([[-1,-1,-1],[-1,8,-1],[-1,-1,-1]])\n",
    "    sharpened = cv2.filter2D(img, -1, kernal)\n",
    "    return sharpened\n",
    "def max_filter(img, kernel_size):\n",
    "    # Create a max filter kernel\n",
    "    kernel = np.ones((kernel_size, kernel_size), np.uint8)\n",
    "    # Apply the max filter\n",
    "    max_filtered = cv2.dilate(img, kernel)\n",
    "    return max_filtered\n",
    "\n",
    "def min_filter(img, kernel_size):\n",
    "    # Create a min filter kernel\n",
    "    kernel = np.ones((kernel_size, kernel_size), np.uint8)\n",
    "    # Apply the min filter\n",
    "    min_filtered = cv2.erode(img, kernel)\n",
    "    return min_filtered\n",
    "\n",
    "def closing(img, kernel_size):\n",
    "    # Create a closing kernel\n",
    "    kernel = np.ones((kernel_size, kernel_size), np.uint8)\n",
    "    # Apply the closing operation\n",
    "    closed = cv2.morphologyEx(img, cv2.MORPH_CLOSE, kernel)\n",
    "    return closed\n",
    "\n",
    "def supress_colours(img, lower_bound, upper_bound):\n",
    "    # Convert the image to HSV color space\n",
    "    hsv = cv2.cvtColor(img, cv2.COLOR_BGR2HSV)\n",
    "    # Create a mask for the specified color range\n",
    "    mask = cv2.inRange(hsv, lower_bound, upper_bound)\n",
    "    # Apply the mask to the image\n",
    "    result = cv2.bitwise_and(img, img, mask=mask)\n",
    "    return result\n"
   ],
   "id": "6a06b93af80b9d6c",
   "outputs": [],
   "execution_count": 3
  },
  {
   "metadata": {
    "ExecuteTime": {
     "end_time": "2025-05-11T12:11:45.706270Z",
     "start_time": "2025-05-11T12:11:45.692503Z"
    }
   },
   "cell_type": "code",
   "source": [
    "# Function to detect lanes based on HSV and Canny edges\n",
    "def separate_canny_based_canny(img):\n",
    "    equal_image = equalisation_histogram(img)\n",
    "    hsv_image = cv2.cvtColor(equal_image, cv2.COLOR_BGR2HSV)\n",
    "    lower_bound = np.array([2,60, 190])\n",
    "    upper_bound = np.array([80, 255, 255])\n",
    "    new_image = supress_colours(hsv_image, lower_bound, upper_bound)\n",
    "    new_image = min_filter(new_image, 1)\n",
    "    new_image = cv2.medianBlur(new_image, 3)\n",
    "    new_image = cv2.cvtColor(new_image, cv2.COLOR_HSV2BGR)\n",
    "    canny = cv2.Canny(new_image, 100, 200)\n",
    "    return canny"
   ],
   "id": "ef37e955c4796301",
   "outputs": [],
   "execution_count": 4
  },
  {
   "metadata": {
    "ExecuteTime": {
     "end_time": "2025-05-11T12:12:05.642536Z",
     "start_time": "2025-05-11T12:12:04.668065Z"
    }
   },
   "cell_type": "code",
   "source": [
    "# separating lines based on HSv\n",
    "\n",
    "hsv_image = cv2.cvtColor(equal_image, cv2.COLOR_BGR2HSV)\n",
    "\n",
    "lower_bound = np.array([2,60, 190])\n",
    "upper_bound = np.array([80, 255, 255])\n",
    "\n",
    "new_image = supress_colours(hsv_image, lower_bound, upper_bound)\n",
    "new_image = min_filter(new_image, 1)\n",
    "new_image = cv2.medianBlur(new_image, 3)\n",
    "cv2.imshow('hsv_image', hsv_image)\n",
    "cv2.imshow('new_image', new_image)\n",
    "cv2.waitKey(0)\n",
    "cv2.destroyAllWindows()\n",
    "\n",
    "canny = cv2.Canny(new_image, 100, 200)\n",
    "cv2.imshow('canny', canny)\n",
    "cv2.waitKey(0)\n",
    "cv2.destroyAllWindows()\n"
   ],
   "id": "8eae85e75a0f415a",
   "outputs": [],
   "execution_count": 9
  },
  {
   "metadata": {
    "ExecuteTime": {
     "end_time": "2025-05-11T12:11:49.244464Z",
     "start_time": "2025-05-11T12:11:49.208433Z"
    }
   },
   "cell_type": "code",
   "source": [
    "# Read the image\n",
    "test_image = cv2.imread('../DIP Project Videos/Screenshot 2025-05-11 110347.png')"
   ],
   "id": "59c1dfab5fc0636b",
   "outputs": [],
   "execution_count": 6
  },
  {
   "metadata": {},
   "cell_type": "markdown",
   "source": "# Approach 1 using greyscale and Canny but didnt work very well",
   "id": "ccde2dd77971be9b"
  },
  {
   "metadata": {
    "ExecuteTime": {
     "end_time": "2025-05-11T12:12:02.346876Z",
     "start_time": "2025-05-11T12:11:56.700922Z"
    }
   },
   "cell_type": "code",
   "source": [
    "\n",
    "\n",
    "# histogram equalisation\n",
    "equal_image = equalisation_histogram(test_image)\n",
    "\n",
    "grey_image = cv2.cvtColor(equal_image, cv2.COLOR_BGR2GRAY)\n",
    "\n",
    "cv2.imshow('equal_image', equal_image)\n",
    "cv2.imshow('grey_image', grey_image)\n",
    "cv2.waitKey(0)\n",
    "cv2.destroyAllWindows()\n",
    "#Median filter to remove salt and pepper noise\n",
    "medianblurred = cv2.medianBlur(grey_image, 3)\n",
    "\n",
    "\n",
    "cv2.imshow('medianblurred', medianblurred)\n",
    "cv2.waitKey(0)\n",
    "cv2.destroyAllWindows()\n",
    "\n",
    "# max filter to remove salt and pepper noise\n",
    "max_img = max_filter(medianblurred, 5)\n",
    "\n",
    "# min filter to remove salt and pepper noise\n",
    "min_img = min_filter(medianblurred, 5)\n",
    "\n",
    "# testing closing operation\n",
    "closed_img = closing(medianblurred, 3)\n",
    "\n",
    "# testing max vs min v closing\n",
    "\n",
    "cv2.imshow('max_filtered', max_img)\n",
    "cv2.imshow('min_filtered', min_img)\n",
    "cv2.imshow('closed_img', closed_img)\n",
    "cv2.waitKey(0)\n",
    "cv2.destroyAllWindows()\n",
    "\n",
    "# grey image\n",
    "cv2.imshow('grey_image', grey_image)\n",
    "cv2.waitKey(0)\n",
    "cv2.destroyAllWindows()\n",
    "# applying blur\n",
    "\n",
    "blur = cv2.GaussianBlur(grey_image, (3,3), 0)\n",
    "blur = cv2.blur(closed_img, (3,3),0)\n",
    "# blur = cv2.blur(blur, (3,3), 0)\n",
    "canny = cv2.Canny(blur, 50, 150)\n",
    "# show imgae\n",
    "\n",
    "cv2.imshow('blur', blur)\n",
    "cv2.imshow('BW image', grey_image)\n",
    "cv2.imshow('canny', canny)\n",
    "cv2.waitKey(0)\n",
    "cv2.destroyAllWindows()\n"
   ],
   "id": "8b1cb4a133aa703f",
   "outputs": [],
   "execution_count": 8
  },
  {
   "metadata": {},
   "cell_type": "markdown",
   "source": "# Approach 2 was based on HSL and worked like a charm",
   "id": "8413b7d6a7931764"
  },
  {
   "metadata": {
    "ExecuteTime": {
     "end_time": "2025-05-11T12:12:10.124315Z",
     "start_time": "2025-05-11T12:12:09.599407Z"
    }
   },
   "cell_type": "code",
   "source": [
    "# Approach 2 based on HSV and Canny edges\n",
    "\n",
    "test_image2 = cv2.imread('../DIP Project Videos/Screenshot 2025-05-11 110347.png')\n",
    "lanes_img = separate_canny_based_canny(test_image2)\n",
    "cv2.imshow('separate_canny_based_canny', lanes_img)\n",
    "cv2.waitKey(0)\n",
    "cv2.destroyAllWindows()\n",
    "\n"
   ],
   "id": "c77ab8674070ac55",
   "outputs": [],
   "execution_count": 10
  },
  {
   "metadata": {},
   "cell_type": "markdown",
   "source": "# now we will create a mask for the region of interest",
   "id": "59a03b9cdf2ab614"
  },
  {
   "metadata": {
    "ExecuteTime": {
     "end_time": "2025-05-11T12:12:12.353755Z",
     "start_time": "2025-05-11T12:12:11.984269Z"
    }
   },
   "cell_type": "code",
   "source": [
    "plt.imshow(lanes_img)\n",
    "plt.show()\n",
    "# marking the region of interest as\n",
    "# X-axis (170px-x,100px-y), (800px-x, 200px-y), (1500px-x, 1000px-y)\n"
   ],
   "id": "2e97e3977c79ce20",
   "outputs": [
    {
     "data": {
      "text/plain": [
       "<Figure size 640x480 with 1 Axes>"
      ],
      "image/png": "[encoded data removed]"
     },
     "metadata": {},
     "output_type": "display_data"
    }
   ],
   "execution_count": 11
  },
  {
   "metadata": {},
   "cell_type": "markdown",
   "source": "# X-axis (170px-x,100px-y), (800px-x, 200px-y), (1500px-x, 1000px-y)",
   "id": "96d812c0eb67e9e3"
  },
  {
   "metadata": {
    "ExecuteTime": {
     "end_time": "2025-05-11T12:18:04.398793Z",
     "start_time": "2025-05-11T12:18:04.393794Z"
    }
   },
   "cell_type": "code",
   "source": [
    "def region_of_interest(img):\n",
    "    height = img.shape[0]\n",
    "    polygons = np.array([[(100, height),(2000, height), (800, 200)]])\n",
    "    mask = np.zeros_like(img)\n",
    "    # Fill the triangle with white color\n",
    "    cv2.fillPoly(mask, polygons, 255)\n",
    "    output = cv2.bitwise_and(img, img, mask=mask)\n",
    "    return output\n"
   ],
   "id": "61584e1eb76df36",
   "outputs": [],
   "execution_count": 22
  },
  {
   "metadata": {},
   "cell_type": "markdown",
   "source": "# Using Hough Transform to detect lines\n",
   "id": "94b1a78b9188a542"
  },
  {
   "metadata": {
    "ExecuteTime": {
     "end_time": "2025-05-11T12:15:28.713164Z",
     "start_time": "2025-05-11T12:15:26.573602Z"
    }
   },
   "cell_type": "code",
   "source": [
    "def display_lines(img, lines):\n",
    "    # Create a blank 3-channel (color) image\n",
    "    img_shape = img.shape\n",
    "    line_image = np.zeros((img_shape[0], img_shape[1], 3), dtype=np.uint8)\n",
    "    if lines is not None:\n",
    "        for line in lines:\n",
    "            x1, y1, x2, y2 = line.reshape(4)\n",
    "            cv2.line(line_image, (x1, y1), (x2, y2), (255, 0, 0), 10)  # blue line\n",
    "    return line_image\n",
    "\n",
    "# def average_slope_intercept(image, lines):\n",
    "#     left_fit = []\n",
    "#     right_fit = []\n",
    "#     for line in lines:\n",
    "#         x1, y1, x2, y2 = line.reshape(4)\n",
    "#         parameters = np.polyfit((x1, x2), (y1, y2), 1)\n",
    "#         slope = parameters[0]\n",
    "#         intercept = parameters[1]\n",
    "#         if slope < 0:\n",
    "#             left_fit.append((slope, intercept))\n",
    "#         else:\n",
    "#             right_fit.append((slope, intercept))\n",
    "#     left_fit_average = np.average(left_fit, axis=0)\n",
    "#     right_fit_average = np.average(right_fit, axis=0)\n",
    "#     left_line = make_coordinates(image, left_fit_average)\n",
    "#     right_line = make_coordinates(image, right_fit_average)\n",
    "#     return np.array([left_line, right_line])\n",
    "\n",
    "def average_slope_intercept(image, lines):\n",
    "    left_fit = []\n",
    "    right_fit = []\n",
    "\n",
    "    if lines is None:\n",
    "        return []\n",
    "\n",
    "    for line in lines:\n",
    "        x1, y1, x2, y2 = line.reshape(4)\n",
    "        parameters = np.polyfit((x1, x2), (y1, y2), 1)\n",
    "        slope = parameters[0]\n",
    "        intercept = parameters[1]\n",
    "        if slope < 0:\n",
    "            left_fit.append((slope, intercept))\n",
    "        else:\n",
    "            right_fit.append((slope, intercept))\n",
    "\n",
    "    averaged_lines = []\n",
    "\n",
    "    if len(left_fit) > 0:\n",
    "        left_fit_average = np.average(left_fit, axis=0)\n",
    "        left_line = make_coordinates(image, left_fit_average)\n",
    "        averaged_lines.append(left_line)\n",
    "\n",
    "    if len(right_fit) > 0:\n",
    "        right_fit_average = np.average(right_fit, axis=0)\n",
    "        right_line = make_coordinates(image, right_fit_average)\n",
    "        averaged_lines.append(right_line)\n",
    "\n",
    "    return np.array(averaged_lines)\n",
    "\n",
    "\n",
    "def make_coordinates(image, line_parameters):\n",
    "    slope, intercept = line_parameters\n",
    "    y1 = image.shape[0]\n",
    "    y2 = int(y1 * (3 / 5))\n",
    "    x1 = int((y1 - intercept) / slope)\n",
    "    x2 = int((y2 - intercept) / slope)\n",
    "    return np.array([x1, y1, x2, y2])\n",
    "\n",
    "test_image2 = cv2.imread('../DIP Project Videos/Screenshot 2025-05-11 110347.png')\n",
    "lanes_img = separate_canny_based_canny(test_image2)\n",
    "cv2.imshow('separate_canny_based_canny', lanes_img)\n",
    "cv2.waitKey(0)\n",
    "cv2.destroyAllWindows()\n",
    "\n",
    "roi_image = region_of_interest(lanes_img)\n",
    "cv2.imshow('region_of_interest', roi_image)\n",
    "cv2.waitKey(0)\n",
    "cv2.destroyAllWindows()\n",
    "\n",
    "lines = cv2.HoughLinesP(roi_image, 2, np.pi/180, 100, np.array([]), minLineLength=40, maxLineGap=5)\n",
    "averaged_lines = average_slope_intercept(test_image2, lines)\n",
    "line_image = display_lines(test_image2, averaged_lines)\n",
    "comb_image = cv2.addWeighted(test_image2, 0.8, line_image, 1, 1)\n",
    "\n",
    "\n",
    "\n",
    "cv2.imshow('lines', comb_image)\n",
    "cv2.waitKey(0)\n",
    "cv2.destroyAllWindows()"
   ],
   "id": "1ecd817ca168a921",
   "outputs": [],
   "execution_count": 18
  },
  {
   "metadata": {},
   "cell_type": "markdown",
   "source": "# Using Hough Transform basic lane detection algorithm completed\n",
   "id": "c4cdbefddcf60a81"
  },
  {
   "metadata": {
    "ExecuteTime": {
     "end_time": "2025-05-11T12:18:58.887060Z",
     "start_time": "2025-05-11T12:18:07.391657Z"
    }
   },
   "cell_type": "code",
   "source": [
    "cap = cv2.VideoCapture(\"../DIP Project Videos/PXL_20250325_043754655.TS.mp4\")\n",
    "\n",
    "while cap.isOpened():\n",
    "    ret, frame = cap.read()\n",
    "    if not ret:\n",
    "        break\n",
    "\n",
    "    lanes_img = separate_canny_based_canny(frame)\n",
    "    cv2.imshow('separate_canny_based_canny', lanes_img)\n",
    "\n",
    "    roi_image = region_of_interest(lanes_img)\n",
    "    cv2.imshow('region_of_interest', roi_image)\n",
    "\n",
    "    lines = cv2.HoughLinesP(roi_image, 2, np.pi/180, 100, np.array([]), minLineLength=40, maxLineGap=5)\n",
    "    averaged_lines = average_slope_intercept(frame, lines)\n",
    "    line_image = display_lines(frame, averaged_lines)\n",
    "    comb_image = cv2.addWeighted(frame, 0.8, line_image, 1, 1)\n",
    "\n",
    "    cv2.imshow('lines', comb_image)\n",
    "\n",
    "    if cv2.waitKey(1) & 0xFF == ord('q'):\n",
    "        break\n",
    "\n",
    "cap.release()\n",
    "cv2.destroyAllWindows()\n"
   ],
   "id": "54c9f0d737a31c9b",
   "outputs": [],
   "execution_count": 23
  }
 ],
 "metadata": {
  "kernelspec": {
   "display_name": "Python 3",
   "language": "python",
   "name": "python3"
  },
  "language_info": {
   "codemirror_mode": {
    "name": "ipython",
    "version": 2
   },
   "file_extension": ".py",
   "mimetype": "text/x-python",
   "name": "python",
   "nbconvert_exporter": "python",
   "pygments_lexer": "ipython2",
   "version": "2.7.6"
  }
 },
 "nbformat": 4,
 "nbformat_minor": 5
}
